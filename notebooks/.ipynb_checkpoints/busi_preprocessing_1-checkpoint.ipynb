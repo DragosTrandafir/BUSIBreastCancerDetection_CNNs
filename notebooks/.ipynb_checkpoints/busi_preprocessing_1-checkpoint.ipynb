{
 "cells": [
  {
   "cell_type": "markdown",
   "id": "80bd965e-8dda-4f47-a282-f711860d7249",
   "metadata": {},
   "source": [
    "# Preprocessing BUSI dataset"
   ]
  },
  {
   "cell_type": "code",
   "execution_count": null,
   "id": "977f7569-4d9f-4a7d-b23a-458d47081a4e",
   "metadata": {},
   "outputs": [],
   "source": []
  }
 ],
 "metadata": {
  "kernelspec": {
   "display_name": "Python 3 (ipykernel)",
   "language": "python",
   "name": "python3"
  },
  "language_info": {
   "codemirror_mode": {
    "name": "ipython",
    "version": 3
   },
   "file_extension": ".py",
   "mimetype": "text/x-python",
   "name": "python",
   "nbconvert_exporter": "python",
   "pygments_lexer": "ipython3",
   "version": "3.10.10"
  }
 },
 "nbformat": 4,
 "nbformat_minor": 5
}
