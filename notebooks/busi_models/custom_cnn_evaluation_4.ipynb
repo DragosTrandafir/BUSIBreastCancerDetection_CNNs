{
 "cells": [
  {
   "cell_type": "markdown",
   "id": "a5f80dc0-e8ef-4db4-a7a5-b02c9f84ff1b",
   "metadata": {},
   "source": [
    "# Import everything needed from the previous experiments"
   ]
  },
  {
   "cell_type": "code",
   "execution_count": 1,
   "id": "e997c60c-5820-4b22-9dd9-203ffe0d7b5d",
   "metadata": {},
   "outputs": [
    {
     "name": "stdout",
     "output_type": "stream",
     "text": [
      "Found 210 images and 211 masks in malignant folder\n"
     ]
    },
    {
     "name": "stderr",
     "output_type": "stream",
     "text": [
      "Processing malignant images: 100%|██████████████████████████████████████████████████| 210/210 [00:01<00:00, 110.73it/s]\n",
      "Processing malignant masks: 100%|███████████████████████████████████████████████████| 211/211 [00:00<00:00, 597.10it/s]\n"
     ]
    },
    {
     "name": "stdout",
     "output_type": "stream",
     "text": [
      "Found 133 images and 133 masks in normal folder\n"
     ]
    },
    {
     "name": "stderr",
     "output_type": "stream",
     "text": [
      "Processing normal images: 100%|██████████████████████████████████████████████████████| 133/133 [00:01<00:00, 98.71it/s]\n",
      "Processing normal masks: 100%|██████████████████████████████████████████████████████| 133/133 [00:00<00:00, 299.14it/s]\n"
     ]
    },
    {
     "name": "stdout",
     "output_type": "stream",
     "text": [
      "Found 437 images and 454 masks in benign folder\n"
     ]
    },
    {
     "name": "stderr",
     "output_type": "stream",
     "text": [
      "Processing benign images: 100%|█████████████████████████████████████████████████████| 437/437 [00:04<00:00, 105.37it/s]\n",
      "Processing benign masks: 100%|██████████████████████████████████████████████████████| 454/454 [00:00<00:00, 617.00it/s]\n"
     ]
    },
    {
     "name": "stdout",
     "output_type": "stream",
     "text": [
      "Combined 2 masks for malignant (53).png\n",
      "Combined 2 masks for benign (100).png\n",
      "Combined 2 masks for benign (163).png\n",
      "Combined 2 masks for benign (173).png\n",
      "Combined 2 masks for benign (181).png\n",
      "Combined 3 masks for benign (195).png\n",
      "Combined 2 masks for benign (25).png\n",
      "Combined 2 masks for benign (315).png\n",
      "Combined 2 masks for benign (346).png\n",
      "Combined 2 masks for benign (4).png\n",
      "Combined 2 masks for benign (424).png\n",
      "Combined 2 masks for benign (54).png\n",
      "Combined 2 masks for benign (58).png\n",
      "Combined 2 masks for benign (83).png\n",
      "Combined 2 masks for benign (92).png\n",
      "Combined 2 masks for benign (93).png\n",
      "Combined 2 masks for benign (98).png\n",
      "Dataset shape: (780, 224, 224, 1)\n",
      "Masks shape: (780, 224, 224, 1)\n",
      "Labels shape: (780,)\n",
      "Class distribution: Normal: 133, Benign: 437, Malignant: 210\n",
      "Training set sizes: X_train: (546, 224, 224, 1), y_train: (546,), masks: (780, 224, 224, 1)\n",
      "Augmented training set sizes: X_aug: (1758, 224, 224, 1), y_aug: (1758,), masks: (1758, 224, 224, 1)\n",
      "Validation set sizes: X_val: (117, 224, 224, 1), y_val: (117,), masks: (117, 224, 224, 1)\n",
      "Test set sizes: X_test: (117, 224, 224, 1), y_test: (117,), masks: (117, 224, 224, 1)\n",
      "Augmented Normal: 558 samples\n",
      "Augmented Benign: 612 samples\n",
      "Augmented Malignant: 588 samples\n",
      "Augmented images saved to: C:/Users/DragosTrandafiri/BreastCancer_CNN/data/processed/busi/processed_images_augmented/X\n"
     ]
    }
   ],
   "source": [
    "\n",
    "%run busi_augmentation_2.ipynb"
   ]
  },
  {
   "cell_type": "code",
   "execution_count": 2,
   "id": "c1f10ea5-1f2c-4872-9f83-d93fc33a75eb",
   "metadata": {},
   "outputs": [],
   "source": [
    "import numpy as np\n",
    "import pandas as pd\n",
    "import matplotlib.pyplot as plt\n",
    "\n",
    "from sklearn.model_selection import train_test_split\n",
    "from sklearn.preprocessing import StandardScaler, OneHotEncoder\n",
    "from sklearn.metrics import classification_report, confusion_matrix, accuracy_score, precision_score, recall_score, f1_score, fbeta_score\n",
    "\n",
    "from tensorflow.keras.models import Sequential\n",
    "from tensorflow.keras.layers import Dense, Input, LeakyReLU, BatchNormalization, Conv2D, MaxPooling2D, Flatten,  Dropout, Activation\n",
    "from tensorflow.keras.utils import plot_model\n",
    "from tensorflow.keras.optimizers import Adam\n",
    "from tensorflow.keras.losses import SparseCategoricalCrossentropy\n",
    "import tensorflow as tf\n",
    "from tensorflow.keras.datasets import mnist, cifar10\n",
    "from tensorflow.keras.callbacks import EarlyStopping, ReduceLROnPlateau\n",
    "\n",
    "import seaborn as sns\n",
    "import time"
   ]
  },
  {
   "cell_type": "code",
   "execution_count": 3,
   "id": "fc87c3b0-d83b-4aea-a9f4-f6976dc58593",
   "metadata": {},
   "outputs": [
    {
     "name": "stdout",
     "output_type": "stream",
     "text": [
      "(1758, 224, 224, 1)\n",
      "(1758,)\n",
      "(1758, 224, 224, 1)\n"
     ]
    }
   ],
   "source": [
    "print(X_aug.shape)\n",
    "print(y_aug.shape)\n",
    "print(masks_aug.shape)"
   ]
  },
  {
   "cell_type": "markdown",
   "id": "a3ceddb7-2686-4406-87c2-f1384d4fb184",
   "metadata": {},
   "source": [
    "## Apply normalization on the dataset"
   ]
  },
  {
   "cell_type": "code",
   "execution_count": 4,
   "id": "0132f1a0-b4c4-4c6d-83dd-5f585f92b941",
   "metadata": {},
   "outputs": [],
   "source": [
    "# Train\n",
    "X_train_aug = X_aug.astype(\"float32\") / 255.0\n",
    "masks_train_aug = masks_aug.astype(\"float32\") / 255.0\n",
    "y_train_aug = y_aug\n",
    "\n",
    "# Test\n",
    "X_test = X_test.astype(\"float32\") / 255.0\n",
    "masks_test = masks_test.astype(\"float32\") / 255.0\n",
    "y_test = y_test\n",
    "\n",
    "# Validation\n",
    "X_val = X_val.astype(\"float32\") / 255.0\n",
    "masks_val = masks_val.astype(\"float32\") / 255.0\n",
    "y_val = y_val\n",
    "\n",
    "\n"
   ]
  },
  {
   "cell_type": "markdown",
   "id": "ed678ee4-211e-40ef-af2f-0b9b6b7a13d0",
   "metadata": {},
   "source": [
    "| Term                    | Meaning                                            |\n",
    "| ----------------------- | -------------------------------------------------- |\n",
    "| **TP** (True Positive)  | Model predicts positive and it’s actually positive |\n",
    "| **TN** (True Negative)  | Model predicts negative and it’s actually negative |\n",
    "| **FP** (False Positive) | Model predicts positive but it’s actually negative |\n",
    "| **FN** (False Negative) | Model predicts negative but it’s actually positive |\n"
   ]
  },
  {
   "cell_type": "markdown",
   "id": "bb726b2f-00c8-41ee-a6ae-468d2c2ca36b",
   "metadata": {},
   "source": [
    "### Accuracy\n",
    "\n",
    "Definition: Fraction of correct predictions among all predictions.\n",
    "\n",
    "**Accuracy= (TP+TN) / (TP+TN+FP+FN)**\n",
    "\n",
    "- Measures overall correctness.\n",
    "- Simple, easy to interpret.\n",
    "- Can be misleading with imbalanced datasets (common in medical imaging).\n",
    "\n",
    "### Precision (a.k.a Positive Predictive Value)\n",
    "\n",
    "Definition: Fraction of correct positive predictions among all predicted positives.\n",
    "\n",
    "**Precision=TP / (TP+FP)**\n",
    "\n",
    "- High precision → few false positives\n",
    "- Important when FP is costly, e.g., unnecessary biopsy alerts.\n",
    "\n",
    "### Recall (a.k.a Sensitivity or True Positive Rate)\n",
    "\n",
    "Definition: Fraction of actual positives that were correctly predicted.\n",
    "\n",
    "**Recall=TP / (TP+FN)**\n",
    "\n",
    "- High recall → few false negatives\n",
    "- Critical in medical diagnosis: missing a tumor (FN) is very bad.\n",
    "\n",
    "### F1 Score\n",
    "\n",
    "Definition: Harmonic mean of precision and recall.\n",
    "\n",
    "**F1=2⋅Precision⋅Recall/ (Precision+Recall)**\n",
    "\n",
    "- Balances precision and recall.\n",
    "- Useful when we want a single metric but care about both FP and FN equally.\n",
    "\n",
    "### F2 Score\n",
    "\n",
    "Definition: Weighted harmonic mean of precision and recall, emphasizing recall more than precision.\n",
    "\n",
    "**F(β) = (1+β^2)⋅Precision⋅Recall/ (β^2⋅Precision)+Recall**\n",
    "\n",
    "- For F2, β = 2 → recall is weighted more.\n",
    "- We can use F2 when missing positives is much worse than having false positives, e.g., detecting cancer."
   ]
  },
  {
   "cell_type": "markdown",
   "id": "a495eb8d-159e-4c28-9617-30fc6d7e4298",
   "metadata": {},
   "source": [
    "## 1. Model(early stopping, adam optimizer, sparse loss)"
   ]
  },
  {
   "cell_type": "code",
   "execution_count": 5,
   "id": "88c0d79e-343f-4058-bd7c-10af9d343d66",
   "metadata": {},
   "outputs": [],
   "source": [
    "# Early stopping\n",
    "early_stop = EarlyStopping(patience=5, restore_best_weights=True,monitor='val_loss', verbose=1)\n",
    "\n",
    "model_final_simple = Sequential([\n",
    "        Input(shape=(224, 224, 1)),\n",
    "        Conv2D(64, kernel_size=(5,5), activation=(LeakyReLU(negative_slope=0.01))),\n",
    "        MaxPooling2D(pool_size=(2, 2)),\n",
    "    \n",
    "        Conv2D(128, kernel_size=(3,3), activation=(LeakyReLU(negative_slope=0.01))),\n",
    "        MaxPooling2D(pool_size=(2, 2)),\n",
    "    \n",
    "        Conv2D(256, kernel_size=(3,3), activation=(LeakyReLU(negative_slope=0.01))),\n",
    "        MaxPooling2D(pool_size=(2, 2)),\n",
    "    \n",
    "        Flatten(),\n",
    "        Dense(128, activation=(LeakyReLU(negative_slope=0.01))),\n",
    "        Dropout(0.7),\n",
    "        Dense(3, activation='softmax')\n",
    "        ])"
   ]
  },
  {
   "cell_type": "code",
   "execution_count": 6,
   "id": "ed6a2b4b-cec5-46d1-a4c7-be415ef35881",
   "metadata": {},
   "outputs": [
    {
     "name": "stdout",
     "output_type": "stream",
     "text": [
      "Epoch 1/30\n",
      "\u001b[1m55/55\u001b[0m \u001b[32m━━━━━━━━━━━━━━━━━━━━\u001b[0m\u001b[37m\u001b[0m \u001b[1m100s\u001b[0m 2s/step - accuracy: 0.3549 - loss: 1.2230 - val_accuracy: 0.5556 - val_loss: 1.0417\n",
      "Epoch 2/30\n",
      "\u001b[1m55/55\u001b[0m \u001b[32m━━━━━━━━━━━━━━━━━━━━\u001b[0m\u001b[37m\u001b[0m \u001b[1m98s\u001b[0m 2s/step - accuracy: 0.4562 - loss: 1.0415 - val_accuracy: 0.6068 - val_loss: 0.9061\n",
      "Epoch 3/30\n",
      "\u001b[1m55/55\u001b[0m \u001b[32m━━━━━━━━━━━━━━━━━━━━\u001b[0m\u001b[37m\u001b[0m \u001b[1m96s\u001b[0m 2s/step - accuracy: 0.5950 - loss: 0.8796 - val_accuracy: 0.5897 - val_loss: 0.7832\n",
      "Epoch 4/30\n",
      "\u001b[1m55/55\u001b[0m \u001b[32m━━━━━━━━━━━━━━━━━━━━\u001b[0m\u001b[37m\u001b[0m \u001b[1m96s\u001b[0m 2s/step - accuracy: 0.7065 - loss: 0.6940 - val_accuracy: 0.6496 - val_loss: 0.7367\n",
      "Epoch 5/30\n",
      "\u001b[1m55/55\u001b[0m \u001b[32m━━━━━━━━━━━━━━━━━━━━\u001b[0m\u001b[37m\u001b[0m \u001b[1m96s\u001b[0m 2s/step - accuracy: 0.8049 - loss: 0.4999 - val_accuracy: 0.6838 - val_loss: 0.7321\n",
      "Epoch 6/30\n",
      "\u001b[1m55/55\u001b[0m \u001b[32m━━━━━━━━━━━━━━━━━━━━\u001b[0m\u001b[37m\u001b[0m \u001b[1m96s\u001b[0m 2s/step - accuracy: 0.8561 - loss: 0.3674 - val_accuracy: 0.7179 - val_loss: 0.6321\n",
      "Epoch 7/30\n",
      "\u001b[1m55/55\u001b[0m \u001b[32m━━━━━━━━━━━━━━━━━━━━\u001b[0m\u001b[37m\u001b[0m \u001b[1m96s\u001b[0m 2s/step - accuracy: 0.8720 - loss: 0.3289 - val_accuracy: 0.7521 - val_loss: 0.6872\n",
      "Epoch 8/30\n",
      "\u001b[1m55/55\u001b[0m \u001b[32m━━━━━━━━━━━━━━━━━━━━\u001b[0m\u001b[37m\u001b[0m \u001b[1m98s\u001b[0m 2s/step - accuracy: 0.9295 - loss: 0.1872 - val_accuracy: 0.7607 - val_loss: 0.6295\n",
      "Epoch 9/30\n",
      "\u001b[1m55/55\u001b[0m \u001b[32m━━━━━━━━━━━━━━━━━━━━\u001b[0m\u001b[37m\u001b[0m \u001b[1m96s\u001b[0m 2s/step - accuracy: 0.9568 - loss: 0.1276 - val_accuracy: 0.6838 - val_loss: 1.1630\n",
      "Epoch 10/30\n",
      "\u001b[1m55/55\u001b[0m \u001b[32m━━━━━━━━━━━━━━━━━━━━\u001b[0m\u001b[37m\u001b[0m \u001b[1m96s\u001b[0m 2s/step - accuracy: 0.9619 - loss: 0.1061 - val_accuracy: 0.7350 - val_loss: 0.9554\n",
      "Epoch 11/30\n",
      "\u001b[1m55/55\u001b[0m \u001b[32m━━━━━━━━━━━━━━━━━━━━\u001b[0m\u001b[37m\u001b[0m \u001b[1m96s\u001b[0m 2s/step - accuracy: 0.9471 - loss: 0.1295 - val_accuracy: 0.7607 - val_loss: 0.9135\n",
      "Epoch 12/30\n",
      "\u001b[1m55/55\u001b[0m \u001b[32m━━━━━━━━━━━━━━━━━━━━\u001b[0m\u001b[37m\u001b[0m \u001b[1m95s\u001b[0m 2s/step - accuracy: 0.9681 - loss: 0.0967 - val_accuracy: 0.7692 - val_loss: 1.1038\n",
      "Epoch 13/30\n",
      "\u001b[1m55/55\u001b[0m \u001b[32m━━━━━━━━━━━━━━━━━━━━\u001b[0m\u001b[37m\u001b[0m \u001b[1m97s\u001b[0m 2s/step - accuracy: 0.9784 - loss: 0.0648 - val_accuracy: 0.7521 - val_loss: 1.2204\n",
      "Epoch 13: early stopping\n",
      "Restoring model weights from the end of the best epoch: 8.\n"
     ]
    },
    {
     "data": {
      "text/plain": [
       "<keras.src.callbacks.history.History at 0x1628f8c48e0>"
      ]
     },
     "execution_count": 6,
     "metadata": {},
     "output_type": "execute_result"
    }
   ],
   "source": [
    "# Compile\n",
    "model_final_simple.compile(\n",
    "    optimizer='adam',\n",
    "    loss='sparse_categorical_crossentropy',\n",
    "    metrics=['accuracy']\n",
    ")\n",
    "\n",
    "# Train\n",
    "model_final_simple.fit(\n",
    "    X_train_aug, y_train_aug,\n",
    "    validation_data=(X_val, y_val),\n",
    "    epochs=30,\n",
    "    batch_size=32,\n",
    "    callbacks=[early_stop]\n",
    ")\n",
    "        "
   ]
  },
  {
   "cell_type": "markdown",
   "id": "717ac528-cc09-48ef-bc39-d36990d4511f",
   "metadata": {},
   "source": [
    "## Evaluation metrics"
   ]
  },
  {
   "cell_type": "markdown",
   "id": "894b067d-286c-498b-b9f7-323b05f8be66",
   "metadata": {},
   "source": [
    "### Precision , recall and f1"
   ]
  },
  {
   "cell_type": "code",
   "execution_count": 10,
   "id": "ae1d82fc-494f-4677-a8fa-21ec55ac4eb9",
   "metadata": {},
   "outputs": [
    {
     "name": "stdout",
     "output_type": "stream",
     "text": [
      "\u001b[1m4/4\u001b[0m \u001b[32m━━━━━━━━━━━━━━━━━━━━\u001b[0m\u001b[37m\u001b[0m \u001b[1m1s\u001b[0m 311ms/step\n",
      "\n",
      "Classification Report:\n",
      "              precision    recall  f1-score   support\n",
      "\n",
      "           0     0.8000    0.6000    0.6857        20\n",
      "           1     0.7639    0.8333    0.7971        66\n",
      "           2     0.7333    0.7097    0.7213        31\n",
      "\n",
      "    accuracy                         0.7607       117\n",
      "   macro avg     0.7657    0.7143    0.7347       117\n",
      "weighted avg     0.7620    0.7607    0.7580       117\n",
      "\n"
     ]
    }
   ],
   "source": [
    "# Predict probabilities\n",
    "y_test_probs = model_final_simple.predict(X_test)\n",
    "\n",
    "# convert probabilities to predicted class labels\n",
    "y_test_pred = np.argmax(y_test_probs, axis=1)\n",
    "\n",
    "\n",
    "# Classification Report (includes precision, recall, f1-score per class)\n",
    "print(\"\\nClassification Report:\")\n",
    "print(classification_report(y_test, y_test_pred, digits=4))\n"
   ]
  },
  {
   "cell_type": "markdown",
   "id": "1da58a54-78fd-4a26-8efa-8440678befc6",
   "metadata": {},
   "source": [
    "### F2"
   ]
  },
  {
   "cell_type": "code",
   "execution_count": 11,
   "id": "e4451848-f689-4f40-9ef0-024deb7a082e",
   "metadata": {},
   "outputs": [
    {
     "name": "stdout",
     "output_type": "stream",
     "text": [
      "F2-score: 0.7589\n"
     ]
    }
   ],
   "source": [
    "f2_score = fbeta_score(y_test, y_test_pred, beta=2, average='weighted')\n",
    "print(\"F2-score:\", round(f2_score, 4))"
   ]
  },
  {
   "cell_type": "markdown",
   "id": "40b5d9da-d42d-4350-ab56-83a6399d4d6b",
   "metadata": {},
   "source": [
    "### Heatmap confusion matrix"
   ]
  },
  {
   "cell_type": "code",
   "execution_count": 12,
   "id": "2a79dd46-bb2d-4388-abab-1ad43384ef43",
   "metadata": {},
   "outputs": [
    {
     "data": {
      "image/png": "[encoded data removed]",
      "text/plain": [
       "<Figure size 640x480 with 2 Axes>"
      ]
     },
     "metadata": {},
     "output_type": "display_data"
    }
   ],
   "source": [
    "cm = confusion_matrix(y_test, y_test_pred)\n",
    "sns.heatmap(cm, annot=True, fmt='d', cmap='Blues', xticklabels=['Normal', 'Benign', 'Malignant'], yticklabels=['Normal', 'Benign', 'Malignant'])\n",
    "plt.xlabel('Predicted')\n",
    "plt.ylabel('True')\n",
    "plt.title('Confusion Matrix (Test Set)')\n",
    "plt.show()"
   ]
  },
  {
   "cell_type": "markdown",
   "id": "96eec7da-56e5-4aa4-9b17-9be79410c492",
   "metadata": {},
   "source": [
    "## 2. Model(early stopping, adam optimizer, sparse loss,  ReduceLROnPlateau with aggressive decay parameters)"
   ]
  },
  {
   "cell_type": "code",
   "execution_count": 14,
   "id": "ffc22443-103e-4212-9238-652473cceac5",
   "metadata": {},
   "outputs": [],
   "source": [
    "# Early stopping\n",
    "early_stop = EarlyStopping(patience=5, restore_best_weights=True,monitor='val_loss', verbose=1)\n",
    "\n",
    "model_final_aggr_decay = Sequential([\n",
    "        Input(shape=(224, 224, 1)),\n",
    "        Conv2D(64, kernel_size=(5,5), activation=(LeakyReLU(negative_slope=0.01))),\n",
    "        MaxPooling2D(pool_size=(2, 2)),\n",
    "    \n",
    "        Conv2D(128, kernel_size=(3,3), activation=(LeakyReLU(negative_slope=0.01))),\n",
    "        MaxPooling2D(pool_size=(2, 2)),\n",
    "    \n",
    "        Conv2D(256, kernel_size=(3,3), activation=(LeakyReLU(negative_slope=0.01))),\n",
    "        MaxPooling2D(pool_size=(2, 2)),\n",
    "    \n",
    "        Flatten(),\n",
    "        Dense(128, activation=(LeakyReLU(negative_slope=0.01))),\n",
    "        Dropout(0.7),\n",
    "        Dense(3, activation='softmax')\n",
    "        ])\n",
    "\n",
    "# Compile your model\n",
    "model_final_aggr_decay.compile(\n",
    "    optimizer='adam',\n",
    "    loss='sparse_categorical_crossentropy',\n",
    "    metrics=['accuracy']\n",
    ")"
   ]
  },
  {
   "cell_type": "code",
   "execution_count": 15,
   "id": "86adef17-59b5-4893-a10d-f0e5033000cc",
   "metadata": {},
   "outputs": [
    {
     "name": "stdout",
     "output_type": "stream",
     "text": [
      "Epoch 1/30\n",
      "\u001b[1m55/55\u001b[0m \u001b[32m━━━━━━━━━━━━━━━━━━━━\u001b[0m\u001b[37m\u001b[0m \u001b[1m98s\u001b[0m 2s/step - accuracy: 0.3623 - loss: 1.3834 - val_accuracy: 0.5641 - val_loss: 1.0733 - learning_rate: 0.0010\n",
      "Epoch 2/30\n",
      "\u001b[1m55/55\u001b[0m \u001b[32m━━━━━━━━━━━━━━━━━━━━\u001b[0m\u001b[37m\u001b[0m \u001b[1m96s\u001b[0m 2s/step - accuracy: 0.3811 - loss: 1.0898 - val_accuracy: 0.5299 - val_loss: 1.0239 - learning_rate: 0.0010\n",
      "Epoch 3/30\n",
      "\u001b[1m55/55\u001b[0m \u001b[32m━━━━━━━━━━━━━━━━━━━━\u001b[0m\u001b[37m\u001b[0m \u001b[1m98s\u001b[0m 2s/step - accuracy: 0.4465 - loss: 1.0535 - val_accuracy: 0.5812 - val_loss: 0.9345 - learning_rate: 0.0010\n",
      "Epoch 4/30\n",
      "\u001b[1m55/55\u001b[0m \u001b[32m━━━━━━━━━━━━━━━━━━━━\u001b[0m\u001b[37m\u001b[0m \u001b[1m96s\u001b[0m 2s/step - accuracy: 0.4693 - loss: 1.0168 - val_accuracy: 0.5556 - val_loss: 0.9559 - learning_rate: 0.0010\n",
      "Epoch 5/30\n",
      "\u001b[1m55/55\u001b[0m \u001b[32m━━━━━━━━━━━━━━━━━━━━\u001b[0m\u001b[37m\u001b[0m \u001b[1m0s\u001b[0m 2s/step - accuracy: 0.5301 - loss: 0.9543\n",
      "Epoch 5: ReduceLROnPlateau reducing learning rate to 0.00020000000949949026.\n",
      "\u001b[1m55/55\u001b[0m \u001b[32m━━━━━━━━━━━━━━━━━━━━\u001b[0m\u001b[37m\u001b[0m \u001b[1m95s\u001b[0m 2s/step - accuracy: 0.5455 - loss: 0.9505 - val_accuracy: 0.4103 - val_loss: 0.9944 - learning_rate: 0.0010\n",
      "Epoch 6/30\n",
      "\u001b[1m55/55\u001b[0m \u001b[32m━━━━━━━━━━━━━━━━━━━━\u001b[0m\u001b[37m\u001b[0m \u001b[1m95s\u001b[0m 2s/step - accuracy: 0.6223 - loss: 0.8183 - val_accuracy: 0.6581 - val_loss: 0.7589 - learning_rate: 2.0000e-04\n",
      "Epoch 7/30\n",
      "\u001b[1m55/55\u001b[0m \u001b[32m━━━━━━━━━━━━━━━━━━━━\u001b[0m\u001b[37m\u001b[0m \u001b[1m96s\u001b[0m 2s/step - accuracy: 0.7048 - loss: 0.6967 - val_accuracy: 0.6667 - val_loss: 0.7294 - learning_rate: 2.0000e-04\n",
      "Epoch 8/30\n",
      "\u001b[1m55/55\u001b[0m \u001b[32m━━━━━━━━━━━━━━━━━━━━\u001b[0m\u001b[37m\u001b[0m \u001b[1m96s\u001b[0m 2s/step - accuracy: 0.7662 - loss: 0.5732 - val_accuracy: 0.6838 - val_loss: 0.7355 - learning_rate: 2.0000e-04\n",
      "Epoch 9/30\n",
      "\u001b[1m55/55\u001b[0m \u001b[32m━━━━━━━━━━━━━━━━━━━━\u001b[0m\u001b[37m\u001b[0m \u001b[1m96s\u001b[0m 2s/step - accuracy: 0.8077 - loss: 0.4987 - val_accuracy: 0.7009 - val_loss: 0.6891 - learning_rate: 2.0000e-04\n",
      "Epoch 10/30\n",
      "\u001b[1m55/55\u001b[0m \u001b[32m━━━━━━━━━━━━━━━━━━━━\u001b[0m\u001b[37m\u001b[0m \u001b[1m95s\u001b[0m 2s/step - accuracy: 0.8527 - loss: 0.4127 - val_accuracy: 0.7265 - val_loss: 0.6706 - learning_rate: 2.0000e-04\n",
      "Epoch 11/30\n",
      "\u001b[1m55/55\u001b[0m \u001b[32m━━━━━━━━━━━━━━━━━━━━\u001b[0m\u001b[37m\u001b[0m \u001b[1m96s\u001b[0m 2s/step - accuracy: 0.8595 - loss: 0.3422 - val_accuracy: 0.7436 - val_loss: 0.7035 - learning_rate: 2.0000e-04\n",
      "Epoch 12/30\n",
      "\u001b[1m55/55\u001b[0m \u001b[32m━━━━━━━━━━━━━━━━━━━━\u001b[0m\u001b[37m\u001b[0m \u001b[1m0s\u001b[0m 2s/step - accuracy: 0.8914 - loss: 0.3168\n",
      "Epoch 12: ReduceLROnPlateau reducing learning rate to 4.0000001899898055e-05.\n",
      "\u001b[1m55/55\u001b[0m \u001b[32m━━━━━━━━━━━━━━━━━━━━\u001b[0m\u001b[37m\u001b[0m \u001b[1m96s\u001b[0m 2s/step - accuracy: 0.8970 - loss: 0.2904 - val_accuracy: 0.7179 - val_loss: 0.7843 - learning_rate: 2.0000e-04\n",
      "Epoch 13/30\n",
      "\u001b[1m55/55\u001b[0m \u001b[32m━━━━━━━━━━━━━━━━━━━━\u001b[0m\u001b[37m\u001b[0m \u001b[1m97s\u001b[0m 2s/step - accuracy: 0.9243 - loss: 0.2123 - val_accuracy: 0.6923 - val_loss: 0.7363 - learning_rate: 4.0000e-05\n",
      "Epoch 14/30\n",
      "\u001b[1m55/55\u001b[0m \u001b[32m━━━━━━━━━━━━━━━━━━━━\u001b[0m\u001b[37m\u001b[0m \u001b[1m0s\u001b[0m 2s/step - accuracy: 0.9366 - loss: 0.1867\n",
      "Epoch 14: ReduceLROnPlateau reducing learning rate to 8.000000525498762e-06.\n",
      "\u001b[1m55/55\u001b[0m \u001b[32m━━━━━━━━━━━━━━━━━━━━\u001b[0m\u001b[37m\u001b[0m \u001b[1m96s\u001b[0m 2s/step - accuracy: 0.9403 - loss: 0.1793 - val_accuracy: 0.7009 - val_loss: 0.7585 - learning_rate: 4.0000e-05\n",
      "Epoch 15/30\n",
      "\u001b[1m55/55\u001b[0m \u001b[32m━━━━━━━━━━━━━━━━━━━━\u001b[0m\u001b[37m\u001b[0m \u001b[1m97s\u001b[0m 2s/step - accuracy: 0.9363 - loss: 0.1789 - val_accuracy: 0.7094 - val_loss: 0.7641 - learning_rate: 8.0000e-06\n",
      "Epoch 15: early stopping\n",
      "Restoring model weights from the end of the best epoch: 10.\n"
     ]
    }
   ],
   "source": [
    "reduce_lr_2 = ReduceLROnPlateau(\n",
    "    monitor='val_loss',\n",
    "    factor=0.2,\n",
    "    patience=2,\n",
    "    min_lr=1e-6,\n",
    "    verbose=1\n",
    ")\n",
    "\n",
    "# Train with callbacks\n",
    "history = model_final_aggr_decay.fit(\n",
    "    X_train_aug, y_train_aug,\n",
    "    validation_data=(X_val, y_val),\n",
    "    epochs=30,\n",
    "    batch_size=32,\n",
    "    callbacks=[early_stop, reduce_lr_2]\n",
    ")"
   ]
  },
  {
   "cell_type": "code",
   "execution_count": 16,
   "id": "2616a013-dd5b-4627-97ac-f95b3a39c58d",
   "metadata": {},
   "outputs": [
    {
     "name": "stdout",
     "output_type": "stream",
     "text": [
      "\u001b[1m4/4\u001b[0m \u001b[32m━━━━━━━━━━━━━━━━━━━━\u001b[0m\u001b[37m\u001b[0m \u001b[1m1s\u001b[0m 332ms/step\n",
      "\n",
      "Classification Report:\n",
      "              precision    recall  f1-score   support\n",
      "\n",
      "           0     0.7500    0.3000    0.4286        20\n",
      "           1     0.7191    0.9697    0.8258        66\n",
      "           2     0.9500    0.6129    0.7451        31\n",
      "\n",
      "    accuracy                         0.7607       117\n",
      "   macro avg     0.8064    0.6275    0.6665       117\n",
      "weighted avg     0.7856    0.7607    0.7365       117\n",
      "\n"
     ]
    }
   ],
   "source": [
    "# Predict probabilities\n",
    "y_test_probs = model_final_aggr_decay.predict(X_test)\n",
    "\n",
    "# convert probabilities to predicted class labels\n",
    "y_test_pred = np.argmax(y_test_probs, axis=1)\n",
    "\n",
    "\n",
    "# Classification Report (includes precision, recall, f1-score per class)\n",
    "print(\"\\nClassification Report:\")\n",
    "print(classification_report(y_test, y_test_pred, digits=4))\n"
   ]
  },
  {
   "cell_type": "code",
   "execution_count": 17,
   "id": "e4f4aed5-db92-4dad-92fd-abd63d266166",
   "metadata": {},
   "outputs": [
    {
     "name": "stdout",
     "output_type": "stream",
     "text": [
      "F2-score: 0.7444\n"
     ]
    }
   ],
   "source": [
    "f2_score = fbeta_score(y_test, y_test_pred, beta=2, average='weighted')\n",
    "print(\"F2-score:\", round(f2_score, 4))"
   ]
  },
  {
   "cell_type": "code",
   "execution_count": 18,
   "id": "44d40d7f-ca3f-40d7-95f6-351e366f9ae4",
   "metadata": {},
   "outputs": [
    {
     "data": {
      "image/png": "[encoded data removed]",
      "text/plain": [
       "<Figure size 640x480 with 2 Axes>"
      ]
     },
     "metadata": {},
     "output_type": "display_data"
    }
   ],
   "source": [
    "cm = confusion_matrix(y_test, y_test_pred)\n",
    "sns.heatmap(cm, annot=True, fmt='d', cmap='Blues', xticklabels=['Normal', 'Benign', 'Malignant'], yticklabels=['Normal', 'Benign', 'Malignant'])\n",
    "plt.xlabel('Predicted')\n",
    "plt.ylabel('True')\n",
    "plt.title('Confusion Matrix (Test Set)')\n",
    "plt.show()"
   ]
  },
  {
   "cell_type": "markdown",
   "id": "592ce19f-4494-4230-afb3-6d7e95b313d6",
   "metadata": {},
   "source": [
    "Strengths of Model 2:\n",
    "\n",
    "Very high recall for class 1 (malignant?): 96.97% (vs. 83.33% in Model 1)\n",
    "\n",
    "High precision for class 2 (normal?): 95.00% (vs. 73.33%)\n",
    "\n",
    "Weaknesses of Model 2:\n",
    "\n",
    "Terrible recall for class 0 (benign?): 30.00% (vs. 60.00%)\n",
    "\n",
    "Only 6/20 benign cases correctly classified\n",
    "\n",
    "Lower F2-score overall: 0.7444 (vs. 0.7589)\n",
    "\n",
    "Macro F1 is significantly worse (0.6665 vs. 0.7347), meaning model 2 is less balanced across classes"
   ]
  },
  {
   "cell_type": "markdown",
   "id": "4080187b-c66a-4f7f-8f1f-2ba822e455d6",
   "metadata": {},
   "source": [
    "So *model 1 is the best, for now*."
   ]
  },
  {
   "cell_type": "markdown",
   "id": "d7222436-e1f3-4b07-b08e-5e6f20038c20",
   "metadata": {},
   "source": [
    "## 3. Model(early stopping, CosineDecay optimizer (normal steps), sparse loss)"
   ]
  },
  {
   "cell_type": "code",
   "execution_count": 20,
   "id": "dc4b7941-8cd2-483a-b67b-358d9587b297",
   "metadata": {},
   "outputs": [],
   "source": [
    "# Early stopping\n",
    "early_stop = EarlyStopping(patience=5, restore_best_weights=True,monitor='val_loss', verbose=1)\n",
    "\n",
    "model_final_cos_1 = Sequential([\n",
    "        Input(shape=(224, 224, 1)),\n",
    "        Conv2D(64, kernel_size=(5,5), activation=(LeakyReLU(negative_slope=0.01))),\n",
    "        MaxPooling2D(pool_size=(2, 2)),\n",
    "    \n",
    "        Conv2D(128, kernel_size=(3,3), activation=(LeakyReLU(negative_slope=0.01))),\n",
    "        MaxPooling2D(pool_size=(2, 2)),\n",
    "    \n",
    "        Conv2D(256, kernel_size=(3,3), activation=(LeakyReLU(negative_slope=0.01))),\n",
    "        MaxPooling2D(pool_size=(2, 2)),\n",
    "    \n",
    "        Flatten(),\n",
    "        Dense(128, activation=(LeakyReLU(negative_slope=0.01))),\n",
    "        Dropout(0.7),\n",
    "        Dense(3, activation='softmax')\n",
    "        ])\n"
   ]
  },
  {
   "cell_type": "code",
   "execution_count": 21,
   "id": "6f63327c-d281-4249-90ee-33764839f9a7",
   "metadata": {},
   "outputs": [],
   "source": [
    "lr_schedule_1 = tf.keras.optimizers.schedules.CosineDecay(\n",
    "    initial_learning_rate=1e-3,\n",
    "    decay_steps=30 * len(X_train_aug),  # for 30 epochs\n",
    "    alpha=1e-5\n",
    ")"
   ]
  },
  {
   "cell_type": "code",
   "execution_count": 22,
   "id": "e41c5615-cd92-40b3-b22e-fbc2eb162ea6",
   "metadata": {},
   "outputs": [
    {
     "name": "stdout",
     "output_type": "stream",
     "text": [
      "Epoch 1/30\n",
      "\u001b[1m55/55\u001b[0m \u001b[32m━━━━━━━━━━━━━━━━━━━━\u001b[0m\u001b[37m\u001b[0m \u001b[1m96s\u001b[0m 2s/step - accuracy: 0.3561 - loss: 1.1655 - val_accuracy: 0.2222 - val_loss: 1.0924\n",
      "Epoch 2/30\n",
      "\u001b[1m55/55\u001b[0m \u001b[32m━━━━━━━━━━━━━━━━━━━━\u001b[0m\u001b[37m\u001b[0m \u001b[1m96s\u001b[0m 2s/step - accuracy: 0.4824 - loss: 1.0247 - val_accuracy: 0.5299 - val_loss: 0.9913\n",
      "Epoch 3/30\n",
      "\u001b[1m55/55\u001b[0m \u001b[32m━━━━━━━━━━━━━━━━━━━━\u001b[0m\u001b[37m\u001b[0m \u001b[1m96s\u001b[0m 2s/step - accuracy: 0.5683 - loss: 0.9084 - val_accuracy: 0.5726 - val_loss: 0.8365\n",
      "Epoch 4/30\n",
      "\u001b[1m55/55\u001b[0m \u001b[32m━━━━━━━━━━━━━━━━━━━━\u001b[0m\u001b[37m\u001b[0m \u001b[1m95s\u001b[0m 2s/step - accuracy: 0.6576 - loss: 0.7822 - val_accuracy: 0.7009 - val_loss: 0.7664\n",
      "Epoch 5/30\n",
      "\u001b[1m55/55\u001b[0m \u001b[32m━━━━━━━━━━━━━━━━━━━━\u001b[0m\u001b[37m\u001b[0m \u001b[1m94s\u001b[0m 2s/step - accuracy: 0.7730 - loss: 0.5684 - val_accuracy: 0.7265 - val_loss: 0.6896\n",
      "Epoch 6/30\n",
      "\u001b[1m55/55\u001b[0m \u001b[32m━━━━━━━━━━━━━━━━━━━━\u001b[0m\u001b[37m\u001b[0m \u001b[1m94s\u001b[0m 2s/step - accuracy: 0.8350 - loss: 0.4241 - val_accuracy: 0.7265 - val_loss: 0.6726\n",
      "Epoch 7/30\n",
      "\u001b[1m55/55\u001b[0m \u001b[32m━━━━━━━━━━━━━━━━━━━━\u001b[0m\u001b[37m\u001b[0m \u001b[1m91s\u001b[0m 2s/step - accuracy: 0.8959 - loss: 0.2688 - val_accuracy: 0.7607 - val_loss: 0.7102\n",
      "Epoch 8/30\n",
      "\u001b[1m55/55\u001b[0m \u001b[32m━━━━━━━━━━━━━━━━━━━━\u001b[0m\u001b[37m\u001b[0m \u001b[1m92s\u001b[0m 2s/step - accuracy: 0.9147 - loss: 0.2150 - val_accuracy: 0.7521 - val_loss: 0.6473\n",
      "Epoch 9/30\n",
      "\u001b[1m55/55\u001b[0m \u001b[32m━━━━━━━━━━━━━━━━━━━━\u001b[0m\u001b[37m\u001b[0m \u001b[1m95s\u001b[0m 2s/step - accuracy: 0.9437 - loss: 0.1521 - val_accuracy: 0.7778 - val_loss: 0.8019\n",
      "Epoch 10/30\n",
      "\u001b[1m55/55\u001b[0m \u001b[32m━━━━━━━━━━━━━━━━━━━━\u001b[0m\u001b[37m\u001b[0m \u001b[1m94s\u001b[0m 2s/step - accuracy: 0.9443 - loss: 0.1370 - val_accuracy: 0.7521 - val_loss: 0.7731\n",
      "Epoch 11/30\n",
      "\u001b[1m55/55\u001b[0m \u001b[32m━━━━━━━━━━━━━━━━━━━━\u001b[0m\u001b[37m\u001b[0m \u001b[1m94s\u001b[0m 2s/step - accuracy: 0.9670 - loss: 0.1012 - val_accuracy: 0.7692 - val_loss: 0.9777\n",
      "Epoch 12/30\n",
      "\u001b[1m55/55\u001b[0m \u001b[32m━━━━━━━━━━━━━━━━━━━━\u001b[0m\u001b[37m\u001b[0m \u001b[1m92s\u001b[0m 2s/step - accuracy: 0.9710 - loss: 0.0999 - val_accuracy: 0.7778 - val_loss: 0.9009\n",
      "Epoch 13/30\n",
      "\u001b[1m55/55\u001b[0m \u001b[32m━━━━━━━━━━━━━━━━━━━━\u001b[0m\u001b[37m\u001b[0m \u001b[1m91s\u001b[0m 2s/step - accuracy: 0.9704 - loss: 0.0817 - val_accuracy: 0.7521 - val_loss: 0.8675\n",
      "Epoch 13: early stopping\n",
      "Restoring model weights from the end of the best epoch: 8.\n"
     ]
    }
   ],
   "source": [
    "optimizer = tf.keras.optimizers.Adam(learning_rate=lr_schedule_1)\n",
    "\n",
    "# Compile \n",
    "model_final_cos_1.compile(optimizer=optimizer, loss='sparse_categorical_crossentropy', metrics=['accuracy'])\n",
    " \n",
    "# Train\n",
    "history = model_final_cos_1.fit(\n",
    "    X_train_aug, y_train_aug,\n",
    "    validation_data=(X_val, y_val),\n",
    "    epochs=30,\n",
    "    batch_size=32,\n",
    "    callbacks=[early_stop]\n",
    ")"
   ]
  },
  {
   "cell_type": "code",
   "execution_count": 25,
   "id": "654ad675-2737-41f5-9710-54ac49ed007d",
   "metadata": {},
   "outputs": [
    {
     "name": "stdout",
     "output_type": "stream",
     "text": [
      "\u001b[1m4/4\u001b[0m \u001b[32m━━━━━━━━━━━━━━━━━━━━\u001b[0m\u001b[37m\u001b[0m \u001b[1m1s\u001b[0m 301ms/step\n",
      "\n",
      "Classification Report:\n",
      "              precision    recall  f1-score   support\n",
      "\n",
      "           0     0.6842    0.6500    0.6667        20\n",
      "           1     0.7945    0.8788    0.8345        66\n",
      "           2     0.8400    0.6774    0.7500        31\n",
      "\n",
      "    accuracy                         0.7863       117\n",
      "   macro avg     0.7729    0.7354    0.7504       117\n",
      "weighted avg     0.7877    0.7863    0.7834       117\n",
      "\n"
     ]
    }
   ],
   "source": [
    "# Predict probabilities\n",
    "y_test_probs = model_final_cos_1.predict(X_test)\n",
    "\n",
    "# convert probabilities to predicted class labels\n",
    "y_test_pred = np.argmax(y_test_probs, axis=1)\n",
    "\n",
    "\n",
    "# Classification Report (includes precision, recall, f1-score per class)\n",
    "print(\"\\nClassification Report:\")\n",
    "print(classification_report(y_test, y_test_pred, digits=4))\n"
   ]
  },
  {
   "cell_type": "code",
   "execution_count": 26,
   "id": "0f02d2f7-03a3-40c1-97b3-5ab43d5749d2",
   "metadata": {},
   "outputs": [
    {
     "name": "stdout",
     "output_type": "stream",
     "text": [
      "F2-score: 0.7844\n"
     ]
    }
   ],
   "source": [
    "f2_score = fbeta_score(y_test, y_test_pred, beta=2, average='weighted')\n",
    "print(\"F2-score:\", round(f2_score, 4))"
   ]
  },
  {
   "cell_type": "code",
   "execution_count": 27,
   "id": "9bd086dc-45e2-4837-8ea2-8ea03e6fa5ef",
   "metadata": {},
   "outputs": [
    {
     "data": {
      "image/png": "[encoded data removed]",
      "text/plain": [
       "<Figure size 640x480 with 2 Axes>"
      ]
     },
     "metadata": {},
     "output_type": "display_data"
    }
   ],
   "source": [
    "cm = confusion_matrix(y_test, y_test_pred)\n",
    "sns.heatmap(cm, annot=True, fmt='d', cmap='Blues', xticklabels=['Normal', 'Benign', 'Malignant'], yticklabels=['Normal', 'Benign', 'Malignant'])\n",
    "plt.xlabel('Predicted')\n",
    "plt.ylabel('True')\n",
    "plt.title('Confusion Matrix (Test Set)')\n",
    "plt.show()"
   ]
  },
  {
   "cell_type": "markdown",
   "id": "daf80245-d74b-4033-a83f-e27f2bff8b60",
   "metadata": {},
   "source": [
    "So this model has the best performance on the test set. It reached an accuracy of 78.63%, a weighted F1-score of 0.7834, and a weighted F2-score of 0.7844, the highest until now. The F2-score, which emphasizes recall, is particularly important in breast cancer detection, where minimizing false negatives is critical. The model showed strong recall for the malignant class (87.88%), indicating reliable identification of potentially cancerous lesions. At the same time, maintained balanced performance across all the three classes, with satisfactory precision and recall for both benign and normal cases. The confusion matrix showes fewer major misclassifications compared to earlier models. Given its superior F2-score and consistent per-class performance, this model was selected as the best-performing classifier in the study."
   ]
  },
  {
   "cell_type": "markdown",
   "id": "ffe7ed7d-d88a-435b-9472-2f291e51105a",
   "metadata": {},
   "source": [
    "## 4. Model(early stopping, CosineDecay optimizer (longer steps), sparse loss)"
   ]
  },
  {
   "cell_type": "markdown",
   "id": "be15e812-b123-49de-aac6-ef8efc9c1176",
   "metadata": {},
   "source": [
    "We shall not evaluate this model, because it is exactly as Model 3, but with 40 steps (epochs) instead of 30. For keeping fairness between the models, we will remain with the first 3 models, as they all have 30 epochs."
   ]
  },
  {
   "cell_type": "code",
   "execution_count": null,
   "id": "fada2179-7f67-4fe4-aecb-61ddc3ed8f8f",
   "metadata": {},
   "outputs": [],
   "source": []
  }
 ],
 "metadata": {
  "kernelspec": {
   "display_name": "Python 3 (ipykernel)",
   "language": "python",
   "name": "python3"
  },
  "language_info": {
   "codemirror_mode": {
    "name": "ipython",
    "version": 3
   },
   "file_extension": ".py",
   "mimetype": "text/x-python",
   "name": "python",
   "nbconvert_exporter": "python",
   "pygments_lexer": "ipython3",
   "version": "3.10.10"
  }
 },
 "nbformat": 4,
 "nbformat_minor": 5
}
